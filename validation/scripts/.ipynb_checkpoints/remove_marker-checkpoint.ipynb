{
 "cells": [
  {
   "cell_type": "markdown",
   "metadata": {
    "pycharm": {
     "name": "#%% md\n"
    }
   },
   "source": [
    "# Remove Marker in fMOST Brain\n",
    "\n",
    "Algorithm:\n",
    "1. Closing\n",
    "2. Sobel\n",
    "3. OTSU (stack level)\n",
    "4. Comelement of the auto thresholding\n",
    "5. Hough Lines Probability Transform\n",
    "6. Filter FP based on orientation and distance to image center(3d)\n",
    "7. Dilation to expand the borders of markers in z direction.\n",
    "\n",
    "### Tips\n",
    "\n",
    "To use this notebook, run all the cells and use the GUI.\n",
    "\n",
    "You can also use the functions by setting up your own script, just like what the GUI part do."
   ]
  },
  {
   "cell_type": "markdown",
   "metadata": {
    "pycharm": {
     "name": "#%% md\n"
    }
   },
   "source": [
    "## Functions"
   ]
  },
  {
   "cell_type": "code",
   "execution_count": 1,
   "metadata": {},
   "outputs": [],
   "source": [
    "import cv2\n",
    "import numpy as np\n",
    "import SimpleITK as sitk\n",
    "import ipywidgets as widgets\n",
    "import os"
   ]
  },
  {
   "cell_type": "markdown",
   "metadata": {},
   "source": [
    "### Functions for Loading data from teraconvert"
   ]
  },
  {
   "cell_type": "code",
   "execution_count": 2,
   "metadata": {},
   "outputs": [],
   "source": [
    "def load_entire_resolution(dir):\n",
    "    '''\n",
    "    :param dir: path to a resolution\n",
    "    :return: assembled image stack (by z, y, x) of that resolution\n",
    "    '''\n",
    "\n",
    "    # _folders: all the folder in the corresponding dir of that dimension\n",
    "    # _start: the starting coord of the current dimension of the iterated block\n",
    "    # z_files: tiff image blocks\n",
    "\n",
    "    y_folders = [d for d in os.listdir(dir) if os.path.isdir(os.path.join(dir, d))]\n",
    "    ensemble_array = []\n",
    "    for i, y_folder in enumerate(y_folders):\n",
    "        y_dir = os.path.join(dir, y_folder)\n",
    "        x_folders = [d for d in os.listdir(y_dir) if os.path.isdir(os.path.join(y_dir, d))]\n",
    "        x_array = []\n",
    "        for j, x_folder in enumerate(x_folders):\n",
    "            x_dir = os.path.join(y_dir, x_folder)\n",
    "            z_files = [d for d in os.listdir(x_dir)]\n",
    "            z_array = []\n",
    "            for k, z_file in enumerate(z_files):\n",
    "                z_path = os.path.join(x_dir, z_file)\n",
    "                img = sitk.ReadImage(z_path)\n",
    "                arr = sitk.GetArrayFromImage(img).transpose([1, 2, 0])\n",
    "                z_array.append(arr)\n",
    "            x_array.append(z_array)\n",
    "        ensemble_array.append(x_array)\n",
    "    return np.block(ensemble_array)\n",
    "\n",
    "\n",
    "def load_from_teraconvert(path_to_brain_id):\n",
    "    '''\n",
    "    :param path_to_brain_id: the path to the teraconvert dir of a brain\n",
    "    :return: the lowest resolution brain (as numpy array) of that dir, by z, y, x\n",
    "    '''\n",
    "    res = os.listdir(path_to_brain_id)\n",
    "    res_x = [str(name.split('x')[1]) for name in res]\n",
    "    min_res = res[np.argmin(res_x)]\n",
    "    min_res_dir = os.path.join(path_to_brain_id, min_res)\n",
    "\n",
    "    return load_entire_resolution(min_res_dir).transpose([2, 0, 1])"
   ]
  },
  {
   "cell_type": "markdown",
   "metadata": {},
   "source": [
    "### Generate Marker Mask"
   ]
  },
  {
   "cell_type": "code",
   "execution_count": 3,
   "metadata": {
    "pycharm": {
     "name": "#%%\n"
    }
   },
   "outputs": [],
   "source": [
    "def remove_marker(img, **kwargs):\n",
    "    '''\n",
    "    :param img: 3d stack numpy array (z,y,x)\n",
    "    :return: the binary mask of the marker (255 for marker)\n",
    "    '''\n",
    "\n",
    "    stack = []\n",
    "    SE1 = cv2.getStructuringElement(cv2.MORPH_ELLIPSE, (kwargs['SE1'],)*2)\n",
    "    SE2 = cv2.getStructuringElement(cv2.MORPH_ELLIPSE, (kwargs['SE2'],)*2)\n",
    "    SE3 = cv2.getStructuringElement(cv2.MORPH_RECT, (1, kwargs['SE3']))\n",
    "    for sl in img:\n",
    "        # Closing\n",
    "        closed = cv2.morphologyEx(sl, cv2.MORPH_CLOSE, SE1)\n",
    "        # Sobel\n",
    "        grad_x = cv2.Sobel(closed, cv2.CV_32F, 1, 0)\n",
    "        grad_y = cv2.Sobel(closed, cv2.CV_32F, 0, 1)\n",
    "        edges = np.hypot(grad_x, grad_y)\n",
    "        edges = (edges / edges.max() * 255).astype('uint8')\n",
    "        stack.append(edges)\n",
    "\n",
    "    # OTSU\n",
    "    stack = np.stack(stack).reshape(-1)\n",
    "    thr, stack = cv2.threshold(stack, 0, 255, cv2.THRESH_OTSU)\n",
    "    stack = stack.reshape(img.shape)\n",
    "\n",
    "    # get all marker lines\n",
    "    all_lines = []\n",
    "    for i, sl in enumerate(stack):\n",
    "        # Closing\n",
    "        closed = cv2.morphologyEx(sl, cv2.MORPH_CLOSE, SE2)\n",
    "        # Hough Line Transform P\n",
    "        lines = cv2.HoughLinesP(closed, kwargs['rho'], kwargs['theta'],\n",
    "                                kwargs['threshold'], minLineLength=kwargs['minLineLength'], maxLineGap=kwargs['maxLineGap'])\n",
    "        if lines is not None:\n",
    "            # reshape lines so that it looks like:\n",
    "            # [ [[x1, y1], [x2, y2]], .. ]\n",
    "            # and append the slice info so that it looks like\n",
    "            # [ [[x1, y1, z1], [x2, y2, z2]], .. ]\n",
    "            lines = np.append(lines.reshape(-1, 2, 2), np.ones([len(lines), 2, 1], dtype=np.int32) * i, axis=2)\n",
    "            all_lines.extend(lines)\n",
    "\n",
    "    # filter lines based on distance to center and orientation\n",
    "    fct = [1, 1, kwargs['zThickness']]\n",
    "    ct = np.flip(img.shape) * fct / 2\n",
    "    def pass_dist(p1, p2):\n",
    "        _p1 = p1 * fct\n",
    "        _p2 = p2 * fct\n",
    "        return np.linalg.norm(np.cross(_p2 - ct, _p1 - ct)) / np.linalg.norm(_p2 - _p1) >= kwargs['minDist']\n",
    "\n",
    "    def pass_angle(p1, p2):\n",
    "        def get_angle(v1, v2):\n",
    "            inner = np.inner(v1, v2)\n",
    "            norms = np.linalg.norm(v1) * np.linalg.norm(v2)\n",
    "            cos = abs(inner / norms)\n",
    "            rad = np.arccos(np.clip(cos, -1.0, 1.0))\n",
    "            deg = np.rad2deg(rad)\n",
    "            return abs(deg)\n",
    "        if ct[0] > ct[1]:\n",
    "            return get_angle(p1 - p2, np.array([0, 1, 0])) <= kwargs['angleLim']\n",
    "        else:\n",
    "            return get_angle(p1 - p2, np.array([1, 0, 0])) <= kwargs['angleLim']\n",
    "\n",
    "    filtered_lines = [line for line in all_lines if pass_angle(*line) and pass_dist(*line)]\n",
    "\n",
    "    # draw the mask\n",
    "    stack = np.zeros(stack.shape, dtype=np.uint8)\n",
    "    for p1, p2 in filtered_lines:\n",
    "        cv2.line(stack[p1[2]], p1[:2], p2[:2], 255, kwargs['lineWidth'])\n",
    "\n",
    "    # cross z closing\n",
    "    stack = stack.reshape(stack.shape[0], -1)\n",
    "    stack = cv2.morphologyEx(stack, cv2.MORPH_CLOSE, SE3)\n",
    "    stack = stack.reshape(img.shape)\n",
    "\n",
    "    return stack"
   ]
  },
  {
   "cell_type": "markdown",
   "metadata": {},
   "source": [
    "## GUI"
   ]
  },
  {
   "cell_type": "code",
   "execution_count": 4,
   "metadata": {
    "pycharm": {
     "name": "#%%\n"
    }
   },
   "outputs": [
    {
     "data": {
      "application/vnd.jupyter.widget-view+json": {
       "model_id": "2c4687cfea1545fc8a6fe869b294540a",
       "version_major": 2,
       "version_minor": 0
      },
      "text/plain": [
       "AppLayout(children=(Label(value='MARKER REMOVER', layout=Layout(grid_area='header')), Button(description='Run'…"
      ]
     },
     "metadata": {},
     "output_type": "display_data"
    }
   ],
   "source": [
    "# IO\n",
    "in_path = widgets.Text(value='../../data/A/182724',\n",
    "                       placeholder='Path to a teraconverted brain')\n",
    "out_path = widgets.Text(value='../results/removeband/182724.tif',\n",
    "                        placeholder='Path to save marker mask')\n",
    "# Smoothing\n",
    "SE1 = widgets.IntSlider(value=11, min=1, max=21)\n",
    "# Otsu result smoothing\n",
    "SE2 = widgets.IntSlider(value=5, min=1, max=21)\n",
    "# Hough Transform\n",
    "rho = widgets.IntSlider(value=1, min=1, max=10)\n",
    "angleDivision = widgets.IntSlider(value=180, min=1, max=180)\n",
    "thresh = widgets.IntSlider(value=100, min=1, max=300)\n",
    "minLineLength = widgets.IntSlider(value=100, min=1, max=300)\n",
    "maxLineGap = widgets.IntSlider(value=1, min=1, max=100)\n",
    "# Filter Ops\n",
    "minDist = widgets.IntSlider(value=300, min=1, max=1000)\n",
    "angleLim = widgets.FloatSlider(value=5, min=1, max=45)\n",
    "zThickness = widgets.FloatSlider(value=2, min=1, max=5)\n",
    "# Mask Ops\n",
    "lineWidth = widgets.IntSlider(value=3, min=1, max=10)\n",
    "# cross z closing\n",
    "SE3 = widgets.IntSlider(value=21, min=1, max=101)\n",
    "\n",
    "def compute(event):\n",
    "    img = load_from_teraconvert(in_path.value)\n",
    "    out = remove_marker(img, SE1=SE1.value, SE2=SE2.value, lineWidth=lineWidth.value, SE3=SE3.value,\n",
    "                        # hough\n",
    "                        rho=rho.value, theta=np.pi / angleDivision.value, threshold=thresh.value, minLineLength=minLineLength.value, maxLineGap=maxLineGap.value,\n",
    "                        # filter\n",
    "                        minDist=minDist.value, angleLim=angleLim.value, zThickness=zThickness.value)\n",
    "    sitk_io = sitk.GetImageFromArray(out)\n",
    "    sitk.WriteImage(sitk_io, out_path.value)\n",
    "\n",
    "button = widgets.Button(description='Run')\n",
    "button.on_click(compute)\n",
    "\n",
    "# layout\n",
    "app = widgets.AppLayout(header=widgets.Label('MARKER REMOVER'),\n",
    "                        left_sidebar=widgets.HBox([\n",
    "                            widgets.VBox([\n",
    "                                widgets.Label('Input Teraconvert Dir'),\n",
    "                                widgets.Label('Output path'),\n",
    "                                widgets.Label('Smoothing disk ksize'),\n",
    "                                widgets.Label('Filling disk ksize'),\n",
    "                                widgets.Label('Hough Distance Resolution'),\n",
    "                                widgets.Label('Hough Angle Resolution'),\n",
    "                                widgets.Label('Hough Threshold'),\n",
    "                                widgets.Label('Hough Minimum Line Length'),\n",
    "                                widgets.Label('Hough Maximum Line Gap'),\n",
    "                                widgets.Label('z Thickness'),\n",
    "                                widgets.Label('Minimal Distance to Image Center'),\n",
    "                                widgets.Label('Orientation Limit'),\n",
    "                                widgets.Label('Marker Mask Line Width'),\n",
    "                                widgets.Label('Cross z closing')\n",
    "                            ]),\n",
    "                            widgets.VBox([\n",
    "                                in_path,\n",
    "                                out_path,\n",
    "                                SE1,\n",
    "                                SE2,\n",
    "                                rho,\n",
    "                                angleDivision,\n",
    "                                thresh,\n",
    "                                minLineLength,\n",
    "                                maxLineGap,\n",
    "                                zThickness,\n",
    "                                minDist,\n",
    "                                angleLim,\n",
    "                                lineWidth,\n",
    "                                SE3\n",
    "                            ])\n",
    "                        ]),\n",
    "                        center=None,\n",
    "                        right_sidebar=None,\n",
    "                        footer=button)\n",
    "\n",
    "display(app)"
   ]
  }
 ],
 "metadata": {
  "kernelspec": {
   "display_name": "Python 3 (ipykernel)",
   "language": "python",
   "name": "python3"
  },
  "language_info": {
   "codemirror_mode": {
    "name": "ipython",
    "version": 3
   },
   "file_extension": ".py",
   "mimetype": "text/x-python",
   "name": "python",
   "nbconvert_exporter": "python",
   "pygments_lexer": "ipython3",
   "version": "3.8.12"
  }
 },
 "nbformat": 4,
 "nbformat_minor": 1
}
