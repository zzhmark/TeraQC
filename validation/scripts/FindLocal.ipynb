{
 "cells": [
  {
   "cell_type": "markdown",
   "metadata": {
    "collapsed": true,
    "pycharm": {
     "name": "#%% md\n"
    }
   },
   "source": [
    "# Find Local Maxima\n",
    "Algorithm\n",
    "1. Maximum filtering on the raw image;\n",
    "2. Extract pixels sharing intensity with the maximum filtering result;\n",
    "3. GSDT on the raw image;\n",
    "4. Laplace filtering on the GSDT result;\n",
    "5. Extract pixels with positive value from the laplace filtering result\n",
    "6. Intersection of the results from step 2 and 5"
   ]
  },
  {
   "cell_type": "code",
   "execution_count": 2,
   "outputs": [],
   "source": [
    "import cv2\n",
    "import numpy as np\n",
    "import SimpleITK as sitk\n",
    "import os\n",
    "from skimage.feature import peak_local_max\n",
    "from scipy.ndimage import maximum_filter"
   ],
   "metadata": {
    "collapsed": false,
    "pycharm": {
     "name": "#%%\n"
    }
   }
  },
  {
   "cell_type": "markdown",
   "source": [
    "Methods"
   ],
   "metadata": {
    "collapsed": false,
    "pycharm": {
     "name": "#%% md\n"
    }
   }
  },
  {
   "cell_type": "code",
   "execution_count": null,
   "outputs": [],
   "source": [
    "def gsdt(gs_img):\n",
    "    out = np.zeros(gs_img.shape)\n",
    "    return out"
   ],
   "metadata": {
    "collapsed": false,
    "pycharm": {
     "name": "#%%\n"
    }
   }
  },
  {
   "cell_type": "markdown",
   "source": [
    "Input Image"
   ],
   "metadata": {
    "collapsed": false,
    "pycharm": {
     "name": "#%% md\n"
    }
   }
  },
  {
   "cell_type": "code",
   "execution_count": null,
   "outputs": [],
   "source": [
    "input_file_path = '../results/removed/17302.tif'\n",
    "img = sitk.ReadImage(input_file_path)\n",
    "arr = sitk.GetArrayFromImage(img)"
   ],
   "metadata": {
    "collapsed": false,
    "pycharm": {
     "name": "#%%\n"
    }
   }
  },
  {
   "cell_type": "markdown",
   "source": [],
   "metadata": {
    "collapsed": false,
    "pycharm": {
     "name": "#%% md\n"
    }
   }
  },
  {
   "cell_type": "code",
   "execution_count": null,
   "outputs": [],
   "source": [
    "ksizeMaxFilter = 7\n"
   ],
   "metadata": {
    "collapsed": false,
    "pycharm": {
     "name": "#%%\n"
    }
   }
  },
  {
   "cell_type": "markdown",
   "source": [
    "## Test only peak local max"
   ],
   "metadata": {
    "collapsed": false
   }
  },
  {
   "cell_type": "code",
   "execution_count": 24,
   "outputs": [],
   "source": [
    "input_file_path = '../results/removed/17302.tif'\n",
    "img = sitk.ReadImage(input_file_path)\n",
    "arr = sitk.GetArrayFromImage(img)\n",
    "stk = []\n",
    "for i, sl in enumerate(arr):\n",
    "    mf = maximum_filter(sl, size=5)\n",
    "    gs = cv2.GaussianBlur(sl, (5, 5), 1)\n",
    "    la = cv2.Laplacian(gs.astype(np.int16), -1, ksize=3)\n",
    "    ms = ((mf == sl) & (la > la.max() * 0.01)).astype('uint8') * 255\n",
    "    stk.append(ms)\n",
    "sitk_io = sitk.GetImageFromArray(np.stack(stk))\n",
    "sitk.WriteImage(sitk_io, '../results/localMax/17302.tif')"
   ],
   "metadata": {
    "collapsed": false,
    "pycharm": {
     "name": "#%%\n"
    }
   }
  }
 ],
 "metadata": {
  "kernelspec": {
   "display_name": "Python 3",
   "language": "python",
   "name": "python3"
  },
  "language_info": {
   "codemirror_mode": {
    "name": "ipython",
    "version": 2
   },
   "file_extension": ".py",
   "mimetype": "text/x-python",
   "name": "python",
   "nbconvert_exporter": "python",
   "pygments_lexer": "ipython2",
   "version": "2.7.6"
  }
 },
 "nbformat": 4,
 "nbformat_minor": 0
}