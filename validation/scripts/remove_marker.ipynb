{
 "cells": [
  {
   "cell_type": "markdown",
   "metadata": {
    "pycharm": {
     "name": "#%% md\n"
    }
   },
   "source": [
    "# Remove Marker in fMOST Brain (Definitive Edition)\n",
    "\n",
    "Algorithm:\n",
    "1. Closing (Smoothing)\n",
    "2. Sobel\n",
    "3. Canny\n",
    "4. Closing (Filling holes)\n",
    "5. Hough Lines Probability Transform\n",
    "6. Filter lines based on orientation & distance to center\n",
    "7. Draw lines (extending length & width)\n",
    "8. Closing (Filling gaps over z direction)"
   ]
  },
  {
   "cell_type": "markdown",
   "metadata": {
    "pycharm": {
     "name": "#%% md\n"
    }
   },
   "source": [
    "## Functions"
   ]
  },
  {
   "cell_type": "code",
   "execution_count": 1,
   "metadata": {},
   "outputs": [],
   "source": [
    "import cv2\n",
    "import numpy as np\n",
    "import SimpleITK as sitk\n",
    "import ipywidgets as widgets\n",
    "import os"
   ]
  },
  {
   "cell_type": "markdown",
   "metadata": {},
   "source": [
    "### Functions for Loading data from teraconvert"
   ]
  },
  {
   "cell_type": "code",
   "execution_count": 2,
   "metadata": {},
   "outputs": [],
   "source": [
    "def load_entire_resolution(dir):\n",
    "    '''\n",
    "    :param dir: path to a resolution\n",
    "    :return: assembled image stack (by z, y, x) of that resolution\n",
    "    '''\n",
    "\n",
    "    # _folders: all the folder in the corresponding dir of that dimension\n",
    "    # _start: the starting coord of the current dimension of the iterated block\n",
    "    # z_files: tiff image blocks\n",
    "\n",
    "    y_folders = [d for d in os.listdir(dir) if os.path.isdir(os.path.join(dir, d))]\n",
    "    ensemble_array = []\n",
    "    for i, y_folder in enumerate(y_folders):\n",
    "        y_dir = os.path.join(dir, y_folder)\n",
    "        x_folders = [d for d in os.listdir(y_dir) if os.path.isdir(os.path.join(y_dir, d))]\n",
    "        x_array = []\n",
    "        for j, x_folder in enumerate(x_folders):\n",
    "            x_dir = os.path.join(y_dir, x_folder)\n",
    "            z_files = [d for d in os.listdir(x_dir)]\n",
    "            z_array = []\n",
    "            for k, z_file in enumerate(z_files):\n",
    "                z_path = os.path.join(x_dir, z_file)\n",
    "                img = sitk.ReadImage(z_path)\n",
    "                arr = sitk.GetArrayFromImage(img).transpose([1, 2, 0])\n",
    "                z_array.append(arr)\n",
    "            x_array.append(z_array)\n",
    "        ensemble_array.append(x_array)\n",
    "    return np.block(ensemble_array)\n",
    "\n",
    "\n",
    "def load_from_teraconvert(path_to_brain_id):\n",
    "    '''\n",
    "    :param path_to_brain_id: the path to the teraconvert dir of a brain\n",
    "    :return: the lowest resolution brain (as numpy array) of that dir, by z, y, x\n",
    "    '''\n",
    "    res = os.listdir(path_to_brain_id)\n",
    "    res_x = [str(name.split('x')[1]) for name in res]\n",
    "    min_res = res[np.argmin(res_x)]\n",
    "    min_res_dir = os.path.join(path_to_brain_id, min_res)\n",
    "\n",
    "    return load_entire_resolution(min_res_dir).transpose([2, 0, 1])"
   ]
  },
  {
   "cell_type": "markdown",
   "metadata": {},
   "source": [
    "### Generate Marker Mask"
   ]
  },
  {
   "cell_type": "code",
   "execution_count": 48,
   "metadata": {
    "pycharm": {
     "name": "#%%\n"
    }
   },
   "outputs": [],
   "source": [
    "def remove_marker(img, **kwargs):\n",
    "    '''\n",
    "    :param img: 3d stack numpy array (z,y,x)\n",
    "    :return: the binary mask of the marker (255 for marker)\n",
    "    '''\n",
    "\n",
    "    stack = []\n",
    "    SE1 = cv2.getStructuringElement(cv2.MORPH_ELLIPSE, (kwargs['SE1'],)*2)\n",
    "    SE2 = cv2.getStructuringElement(cv2.MORPH_ELLIPSE, (kwargs['SE2'],)*2)\n",
    "    SE3 = cv2.getStructuringElement(cv2.MORPH_RECT, (1, kwargs['SE3']))\n",
    "    gk = kwargs['sigma'] * 3\n",
    "    if gk % 2 == 0:\n",
    "        gk += 1\n",
    "    for sl in img:\n",
    "        # Closing\n",
    "        closed = cv2.morphologyEx(sl, cv2.MORPH_CLOSE, SE1)\n",
    "        closed = cv2.GaussianBlur(closed, (gk,) * 2, kwargs['sigma'])\n",
    "        # Canny\n",
    "        dx = cv2.Sobel(closed, cv2.CV_16SC1, 1, 0)\n",
    "        dy = cv2.Sobel(closed, cv2.CV_16SC1, 0, 1)\n",
    "        m = np.hypot(dx, dy).max()\n",
    "        canny = cv2.Canny(dx, dy, kwargs['cannyMin'] * m, kwargs['cannyMax'] * m)\n",
    "        stack.append(canny)\n",
    "    stack = np.stack(stack)\n",
    "\n",
    "    # get all marker lines\n",
    "    all_lines = []\n",
    "    for i, sl in enumerate(stack):\n",
    "        # Closing\n",
    "        closed = cv2.morphologyEx(sl, cv2.MORPH_CLOSE, SE2)\n",
    "        # Hough Line Transform P\n",
    "        lines = cv2.HoughLinesP(closed, kwargs['rho'], kwargs['theta'],\n",
    "                                kwargs['threshold'], minLineLength=kwargs['minLineLength'], maxLineGap=kwargs['maxLineGap'])\n",
    "        if lines is not None:\n",
    "            # reshape lines so that it looks like:\n",
    "            # [ [[x1, y1], [x2, y2]], .. ]\n",
    "            # and append the slice info so that it looks like\n",
    "            # [ [[x1, y1, z1], [x2, y2, z2]], .. ]\n",
    "            lines = np.append(lines.reshape(-1, 2, 2), np.ones([len(lines), 2, 1], dtype=np.int32) * i, axis=2)\n",
    "            all_lines.extend(lines)\n",
    "\n",
    "    # filter lines based on distance to center and orientation\n",
    "    fct = [1, 1, kwargs['zThickness']]\n",
    "    ct = np.flip(img.shape) * fct / 2\n",
    "    def pass_dist(p1, p2):\n",
    "        _p1 = p1 * fct\n",
    "        _p2 = p2 * fct\n",
    "        return np.linalg.norm(np.cross(_p2 - ct, _p1 - ct)) / np.linalg.norm(_p2 - _p1) >= kwargs['minDist']\n",
    "\n",
    "    def pass_angle(p1, p2):\n",
    "        def get_angle(v1, v2):\n",
    "            inner = np.inner(v1, v2)\n",
    "            norms = np.linalg.norm(v1) * np.linalg.norm(v2)\n",
    "            cos = abs(inner / norms)\n",
    "            rad = np.arccos(np.clip(cos, -1.0, 1.0))\n",
    "            deg = np.rad2deg(rad)\n",
    "            return abs(deg)\n",
    "        if ct[0] > ct[1]:\n",
    "            return get_angle(p1 - p2, np.array([0, 1, 0])) <= kwargs['angleLim']\n",
    "        else:\n",
    "            return get_angle(p1 - p2, np.array([1, 0, 0])) <= kwargs['angleLim']\n",
    "\n",
    "    filtered_lines = [line for line in all_lines if pass_angle(*line) and pass_dist(*line)]\n",
    "\n",
    "    # draw the mask\n",
    "    stack = np.zeros(stack.shape, dtype=np.uint8)\n",
    "    for p1, p2 in filtered_lines:\n",
    "        _p1 = p1[:2]\n",
    "        _p2 = p2[:2]\n",
    "        d = _p2 - _p1\n",
    "        _p2 = _p2 + d * kwargs['extendRatio']\n",
    "        _p1 = _p1 - d * kwargs['extendRatio']\n",
    "        cv2.line(stack[p1[2]], _p1.astype('int'), _p2.astype('int'), 255, kwargs['lineWidth'])\n",
    "\n",
    "    # cross z closing\n",
    "    stack = stack.reshape(stack.shape[0], -1)\n",
    "    stack = cv2.morphologyEx(stack, cv2.MORPH_CLOSE, SE3)\n",
    "    stack = stack.reshape(img.shape)\n",
    "\n",
    "    return stack"
   ]
  },
  {
   "cell_type": "markdown",
   "source": [
    "## Run"
   ],
   "metadata": {
    "collapsed": false,
    "pycharm": {
     "name": "#%% md\n"
    }
   }
  },
  {
   "cell_type": "code",
   "execution_count": 11,
   "outputs": [
    {
     "name": "stdout",
     "output_type": "stream",
     "text": [
      "17302.tif done.\n",
      "17544.tif done.\n",
      "18049.tif done.\n",
      "182724.tif done.\n",
      "182726.tif done.\n",
      "182727.tif done.\n",
      "18454.tif done.\n",
      "18455.tif done.\n",
      "18463.tif done.\n",
      "191807.tif done.\n",
      "192333.tif done.\n",
      "192334.tif done.\n",
      "192342.tif done.\n",
      "192346.tif done.\n",
      "192348.tif done.\n",
      "194060.tif done.\n",
      "194063.tif done.\n",
      "194066.tif done.\n",
      "194069.tif done.\n",
      "196469.tif done.\n"
     ]
    }
   ],
   "source": [
    "in_dir = '../results/lowestRes'\n",
    "out_dir = '../results/removeband'\n",
    "for brain in os.listdir(in_dir):\n",
    "    ip = os.path.join(in_dir, brain)\n",
    "    op = os.path.join(out_dir, brain)\n",
    "    img = sitk.ReadImage(ip)\n",
    "    img = sitk.GetArrayFromImage(img)\n",
    "    out = remove_marker(img, SE1=11, SE2=5, lineWidth=3, SE3=21, extendRatio=0.1, cannyMin=0.1, cannyMax=0.3, sigma=1,\n",
    "                        # hough\n",
    "                        rho=1, theta=np.pi / 180, threshold=100, minLineLength=100, maxLineGap=1,\n",
    "                        # filter\n",
    "                        minDist=300, angleLim=5, zThickness=2)\n",
    "    sitk_io = sitk.GetImageFromArray(out)\n",
    "    sitk.WriteImage(sitk_io, op)\n",
    "    print(brain, 'done.')"
   ],
   "metadata": {
    "collapsed": false,
    "pycharm": {
     "name": "#%%\n"
    }
   }
  },
  {
   "cell_type": "code",
   "execution_count": 55,
   "outputs": [],
   "source": [
    "no = '182724'\n",
    "img = sitk.ReadImage('../results/lowestRes/'+ no +'.tif')\n",
    "img = sitk.GetArrayFromImage(img)\n",
    "out = remove_marker(img, SE1=11, SE2=5, lineWidth=3, SE3=21, extendRatio=0.1, cannyMin=0.1, cannyMax=0.3, sigma=1,\n",
    "                        # hough\n",
    "                        rho=1, theta=np.pi / 180, threshold=100, minLineLength=100, maxLineGap=1,\n",
    "                        # filter\n",
    "                        minDist=300, angleLim=5, zThickness=2)\n",
    "sitk_io = sitk.GetImageFromArray(out)\n",
    "sitk.WriteImage(sitk_io, '../results/removeband/' + no + '.tif')"
   ],
   "metadata": {
    "collapsed": false,
    "pycharm": {
     "name": "#%%\n"
    }
   }
  }
 ],
 "metadata": {
  "kernelspec": {
   "display_name": "Python 3 (ipykernel)",
   "language": "python",
   "name": "python3"
  },
  "language_info": {
   "codemirror_mode": {
    "name": "ipython",
    "version": 3
   },
   "file_extension": ".py",
   "mimetype": "text/x-python",
   "name": "python",
   "nbconvert_exporter": "python",
   "pygments_lexer": "ipython3",
   "version": "3.8.12"
  }
 },
 "nbformat": 4,
 "nbformat_minor": 1
}